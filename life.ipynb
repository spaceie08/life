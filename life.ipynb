{
 "cells": [
  {
   "cell_type": "code",
   "execution_count": 2,
   "id": "40653ff2-9bf3-4059-988f-bc7957e1a513",
   "metadata": {},
   "outputs": [],
   "source": [
    "%load_ext line_profiler"
   ]
  },
  {
   "cell_type": "code",
   "execution_count": 4,
   "id": "d3ca2b97-5bb6-45f4-94a7-fc178641c1a1",
   "metadata": {
    "editable": true,
    "slideshow": {
     "slide_type": ""
    },
    "tags": []
   },
   "outputs": [],
   "source": [
    "# @profile\n",
    "def read_grid(filename):\n",
    "    grid = []\n",
    "    with open(filename) as f:\n",
    "        w, h = map(int, f.readline().split(maxsplit=1))\n",
    "        \n",
    "        for y in range(h):\n",
    "            grid.append([0] * w)\n",
    "        \n",
    "        for no, line in enumerate(f):\n",
    "            try:\n",
    "                y, x = map(int, line.split(maxsplit=1))\n",
    "\n",
    "                if y < 0 or x < 0:\n",
    "                    raise ValueError\n",
    "\n",
    "            except ValueError:\n",
    "                raise Exception(f\"Invalid cell on line {no + 2}.\")\n",
    "\n",
    "            grid[y][x] = 1\n",
    "\n",
    "    return grid"
   ]
  },
  {
   "cell_type": "markdown",
   "id": "9b973f28-87ad-4fdf-9a14-e13152d20e16",
   "metadata": {},
   "source": [
    "Rules:\n",
    "- Any live cell with fewer than two live neighbours dies, as if by underpopulation.\n",
    "- Any live cell with two or three live neighbours lives on to the next generation.\n",
    "- Any live cell with more than three live neighbours dies, as if by overpopulation.\n",
    "- Any dead cell with exactly three live neighbours becomes a live cell, as if by reproduction."
   ]
  },
  {
   "cell_type": "code",
   "execution_count": 5,
   "id": "272032fd-a24e-4bd0-8f21-ebef622a8508",
   "metadata": {},
   "outputs": [],
   "source": [
    "def tick(grid):\n",
    "    h, w = len(grid), len(grid[0])\n",
    "\n",
    "    nextgrid = []\n",
    "    for y in range(h):\n",
    "        nextgrid.append([0] * w)\n",
    "\n",
    "    for y, row in enumerate(grid):\n",
    "        for x, cell in enumerate(row):\n",
    "            count = 0\n",
    "            if y > 0:\n",
    "                count += grid[y-1][x-1] if x > 0 else 0\n",
    "                count += grid[y-1][x]\n",
    "                count += grid[y-1][x+1] if x < w - 1 else 0\n",
    "            count += grid[y][x-1] if x > 0 else 0\n",
    "            count += grid[y][x+1] if x < w - 1 else 0\n",
    "            if y < h - 1:\n",
    "                count += grid[y+1][x-1] if x > 0  else 0\n",
    "                count += grid[y+1][x] \n",
    "                count += grid[y+1][x+1] if x < w - 1 else 0\n",
    "\n",
    "            nextgrid[y][x] = 1 if count == 3 or (cell and count == 2) else 0\n",
    "\n",
    "    return nextgrid"
   ]
  },
  {
   "cell_type": "code",
   "execution_count": 6,
   "id": "0370f5b4-1bbf-40bf-9ea4-04a7c442d36e",
   "metadata": {
    "editable": true,
    "slideshow": {
     "slide_type": ""
    },
    "tags": []
   },
   "outputs": [],
   "source": [
    "filename = \"input_5x5.txt\""
   ]
  },
  {
   "cell_type": "code",
   "execution_count": 8,
   "id": "06c35a70-7352-4ff5-a8a9-afa0d5de9fce",
   "metadata": {},
   "outputs": [],
   "source": [
    "%load_ext snakeviz"
   ]
  },
  {
   "cell_type": "code",
   "execution_count": 14,
   "id": "92747e89-577f-4b45-b7b0-ec3657d43e70",
   "metadata": {},
   "outputs": [
    {
     "data": {
      "text/plain": [
       "Timer unit: 1e-07 s\n",
       "\n",
       "Total time: 0.0007696 s\n",
       "File: C:\\Users\\jazib\\AppData\\Local\\Temp\\ipykernel_8984\\531961763.py\n",
       "Function: read_grid at line 2\n",
       "\n",
       "Line #      Hits         Time  Per Hit   % Time  Line Contents\n",
       "==============================================================\n",
       "     2                                           def read_grid(filename):\n",
       "     3         1         19.0     19.0      0.2      grid = []\n",
       "     4         2       5146.0   2573.0     66.9      with open(filename) as f:\n",
       "     5         1       1453.0   1453.0     18.9          w, h = map(int, f.readline().split(maxsplit=1))\n",
       "     6                                                   \n",
       "     7         6         91.0     15.2      1.2          for y in range(h):\n",
       "     8         5        109.0     21.8      1.4              grid.append([0] * w)\n",
       "     9                                                   \n",
       "    10         6        478.0     79.7      6.2          for no, line in enumerate(f):\n",
       "    11         5         45.0      9.0      0.6              try:\n",
       "    12         5        180.0     36.0      2.3                  y, x = map(int, line.split(maxsplit=1))\n",
       "    13                                           \n",
       "    14         5         82.0     16.4      1.1                  if y < 0 or x < 0:\n",
       "    15                                                               raise ValueError\n",
       "    16                                           \n",
       "    17                                                       except ValueError:\n",
       "    18                                                           raise Exception(f\"Invalid cell on line {no + 2}.\")\n",
       "    19                                           \n",
       "    20         5         62.0     12.4      0.8              grid[y][x] = 1\n",
       "    21                                           \n",
       "    22         1         31.0     31.0      0.4      return grid"
      ]
     },
     "metadata": {},
     "output_type": "display_data"
    }
   ],
   "source": [
    "%lprun -f read_grid read_grid(filename)"
   ]
  },
  {
   "cell_type": "code",
   "execution_count": 9,
   "id": "d5fd14b9-cbdd-4757-9579-f5f8308ad7ac",
   "metadata": {},
   "outputs": [
    {
     "name": "stdout",
     "output_type": "stream",
     "text": [
      " \n",
      "*** Profile stats marshalled to file 'C:\\\\Users\\\\jazib\\\\AppData\\\\Local\\\\Temp\\\\tmpxl8piind'.\n",
      "Embedding SnakeViz in this document...\n",
      "<function display at 0x00000189908B4680>\n"
     ]
    },
    {
     "data": {
      "text/html": [
       "\n",
       "<iframe id='snakeviz-a17b77dc-70ed-11ef-92ad-fa177f73d8d2' frameborder=0 seamless width='100%' height='1000'></iframe>\n",
       "<script>document.getElementById(\"snakeviz-a17b77dc-70ed-11ef-92ad-fa177f73d8d2\").setAttribute(\"src\", \"http://\" + document.location.hostname + \":8080/snakeviz/C%3A%5CUsers%5Cjazib%5CAppData%5CLocal%5CTemp%5Ctmpxl8piind\")</script>\n"
      ],
      "text/plain": [
       "<IPython.core.display.HTML object>"
      ]
     },
     "metadata": {},
     "output_type": "display_data"
    }
   ],
   "source": [
    "%snakeviz\n",
    "grid = read_grid(filename)"
   ]
  },
  {
   "cell_type": "code",
   "execution_count": 16,
   "id": "14d69b6f-7006-436b-a577-edb27137b52b",
   "metadata": {},
   "outputs": [
    {
     "data": {
      "text/plain": [
       "[[0, 0, 0, 0, 0],\n",
       " [0, 0, 1, 0, 0],\n",
       " [0, 0, 0, 1, 0],\n",
       " [0, 1, 1, 1, 0],\n",
       " [0, 0, 0, 0, 0]]"
      ]
     },
     "execution_count": 16,
     "metadata": {},
     "output_type": "execute_result"
    }
   ],
   "source": [
    "grid"
   ]
  },
  {
   "cell_type": "code",
   "execution_count": 15,
   "id": "85e1e476-006c-4fb3-8284-466d5e424718",
   "metadata": {
    "editable": true,
    "slideshow": {
     "slide_type": ""
    },
    "tags": []
   },
   "outputs": [
    {
     "data": {
      "text/plain": [
       "Timer unit: 1e-07 s\n",
       "\n",
       "Total time: 0.0003692 s\n",
       "File: C:\\Users\\jazib\\AppData\\Local\\Temp\\ipykernel_8984\\2960384810.py\n",
       "Function: tick at line 1\n",
       "\n",
       "Line #      Hits         Time  Per Hit   % Time  Line Contents\n",
       "==============================================================\n",
       "     1                                           def tick(grid):\n",
       "     2         1        107.0    107.0      2.9      h, w = len(grid), len(grid[0])\n",
       "     3                                           \n",
       "     4         1         28.0     28.0      0.8      nextgrid = []\n",
       "     5         6        151.0     25.2      4.1      for y in range(h):\n",
       "     6         5        115.0     23.0      3.1          nextgrid.append([0] * w)\n",
       "     7                                           \n",
       "     8         6         77.0     12.8      2.1      for y, row in enumerate(grid):\n",
       "     9        30        329.0     11.0      8.9          for x, cell in enumerate(row):\n",
       "    10        25        180.0      7.2      4.9              count = 0\n",
       "    11        25        221.0      8.8      6.0              if y > 0:\n",
       "    12        20        214.0     10.7      5.8                  count += grid[y-1][x-1] if x > 0 else 0\n",
       "    13        20        171.0      8.6      4.6                  count += grid[y-1][x]\n",
       "    14        20        238.0     11.9      6.4                  count += grid[y-1][x+1] if x < w - 1 else 0\n",
       "    15        25        314.0     12.6      8.5              count += grid[y][x-1] if x > 0 else 0\n",
       "    16        25        300.0     12.0      8.1              count += grid[y][x+1] if x < w - 1 else 0\n",
       "    17        25        240.0      9.6      6.5              if y < h - 1:\n",
       "    18        20        227.0     11.3      6.1                  count += grid[y+1][x-1] if x > 0  else 0\n",
       "    19        20        188.0      9.4      5.1                  count += grid[y+1][x] \n",
       "    20        20        237.0     11.8      6.4                  count += grid[y+1][x+1] if x < w - 1 else 0\n",
       "    21                                           \n",
       "    22        25        321.0     12.8      8.7              nextgrid[y][x] = 1 if count == 3 or (cell and count == 2) else 0\n",
       "    23                                           \n",
       "    24         1         34.0     34.0      0.9      return nextgrid"
      ]
     },
     "metadata": {},
     "output_type": "display_data"
    }
   ],
   "source": [
    "%lprun -f tick tick (grid)\n",
    "nextgrid = tick(grid)"
   ]
  },
  {
   "cell_type": "code",
   "execution_count": null,
   "id": "263a3242-aee3-460c-bd7b-4b6a92e5d7e3",
   "metadata": {},
   "outputs": [],
   "source": [
    "nextgrid"
   ]
  },
  {
   "cell_type": "code",
   "execution_count": null,
   "id": "0f7017bd-3851-4da3-83d3-3d40e6e5738a",
   "metadata": {},
   "outputs": [],
   "source": [
    "num_generations = 4\n",
    "\n",
    "nextgrid = grid.copy()\n",
    "for i in range(num_generations):\n",
    "    nextgrid = tick(nextgrid)\n",
    "\n",
    "nextgrid"
   ]
  },
  {
   "cell_type": "code",
   "execution_count": null,
   "id": "cb6cad54-1c5a-482e-8ff5-bc3879b947a4",
   "metadata": {},
   "outputs": [],
   "source": []
  }
 ],
 "metadata": {
  "kernelspec": {
   "display_name": "Python 3 (ipykernel)",
   "language": "python",
   "name": "python3"
  },
  "language_info": {
   "codemirror_mode": {
    "name": "ipython",
    "version": 3
   },
   "file_extension": ".py",
   "mimetype": "text/x-python",
   "name": "python",
   "nbconvert_exporter": "python",
   "pygments_lexer": "ipython3",
   "version": "3.12.3"
  }
 },
 "nbformat": 4,
 "nbformat_minor": 5
}
