{
 "cells": [
  {
   "cell_type": "markdown",
   "id": "9b973f28-87ad-4fdf-9a14-e13152d20e16",
   "metadata": {},
   "source": [
    "# Game of Life - Python Implementation\n",
    "\n",
    "## Overview\n",
    "\n",
    "The Game of Life, developed by British mathematician John Conway in 1970, is a cellular automaton that simulates the evolution of a grid of cells based on simple rules. Each cell in the grid can either be **alive** or **dead**, and its state in the next generation depends on the states of its neighbors.\n",
    "\n",
    "This Python implementation of Conway's Game of Life reads an initial grid configuration from a file, applies the rules iteratively to evolve the grid through generations, and exports the final state to an output file.\n",
    "\n",
    "## Rules of the Game\n",
    "\n",
    "1. **Underpopulation**: Any live cell with fewer than two live neighbors dies.\n",
    "2. **Survival**: Any live cell with two or three live neighbors lives on to the next generation.\n",
    "3. **Overpopulation**: Any live cell with more than three live neighbors dies.\n",
    "4. **Reproduction**: Any dead cell with exactly three live neighbors becomes a live cell.\n",
    "\n",
    "## Code Description\n",
    "\n",
    "### Class: `life`\n",
    "This class models the Game of Life, allowing you to load an initial configuration from a file, update the grid over several generations, and save the final state.\n",
    "\n",
    "### Constructor: `__init__(self, filename: str)`\n",
    "- **Purpose**: Initializes a game of life object from an input file.\n",
    "- **Parameters**: \n",
    "    - `filename` (str): The input file containing the initial grid configuration.\n",
    "- **Process**:\n",
    "    - Reads the grid's dimensions and initializes a grid with an extra border of dead cells (to avoid edge cases).\n",
    "    - Fills in the initial alive cells based on the file input.\n",
    "\n",
    "### Method: `tick(self, num_generations: int = 1)`\n",
    "- **Purpose**: Simulates the grid's evolution for the specified number of generations.\n",
    "- **Parameters**: \n",
    "    - `num_generations` (int): The number of generations to simulate.\n",
    "- **Process**:\n",
    "    - For each generation, it iterates over the grid and computes the next state of each cell based on its neighbors, following the rules of the Game of Life.\n",
    "\n",
    "### Method: `export_grid(self, output_filename: str)`\n",
    "- **Purpose**: Exports the current state of the grid to an output file.\n",
    "- **Parameters**:\n",
    "    - `output_filename` (str): The name of the file to which the grid's final state will be saved.\n",
    "- **Process**:\n",
    "    - Writes the dimensions of the grid and the coordinates of all live cells.\n",
    "\n",
    "## Example of Input Format\n",
    "\n",
    "The input file should have the following format:\n",
    "- The first line contains two integers, the width and height of the grid.\n",
    "- Each subsequent line contains two integers representing the coordinates of a live cell.\n",
    "\n",
    "### Example:\n"
   ]
  },
  {
   "cell_type": "code",
   "execution_count": 1,
   "id": "272032fd-a24e-4bd0-8f21-ebef622a8508",
   "metadata": {},
   "outputs": [],
   "source": [
    "from life import life"
   ]
  },
  {
   "cell_type": "code",
   "execution_count": 2,
   "id": "0370f5b4-1bbf-40bf-9ea4-04a7c442d36e",
   "metadata": {
    "editable": true,
    "slideshow": {
     "slide_type": ""
    },
    "tags": []
   },
   "outputs": [],
   "source": [
    "filename = \"data/input_5x5.txt\""
   ]
  },
  {
   "cell_type": "code",
   "execution_count": 3,
   "id": "cb6cad54-1c5a-482e-8ff5-bc3879b947a4",
   "metadata": {},
   "outputs": [
    {
     "name": "stdout",
     "output_type": "stream",
     "text": [
      "CPU times: total: 0 ns\n",
      "Wall time: 1 ms\n"
     ]
    }
   ],
   "source": [
    "%%time\n",
    "life = life(filename)"
   ]
  },
  {
   "cell_type": "code",
   "execution_count": 4,
   "id": "843c0670-9394-4fc1-b636-e366c29f9426",
   "metadata": {},
   "outputs": [
    {
     "data": {
      "text/plain": [
       "[bitarray('0000000'),\n",
       " bitarray('0000000'),\n",
       " bitarray('0001000'),\n",
       " bitarray('0000100'),\n",
       " bitarray('0011100'),\n",
       " bitarray('0000000'),\n",
       " bitarray('0000000')]"
      ]
     },
     "execution_count": 4,
     "metadata": {},
     "output_type": "execute_result"
    }
   ],
   "source": [
    "life.grid"
   ]
  },
  {
   "cell_type": "code",
   "execution_count": 5,
   "id": "da33227d-a4ca-4d66-98b5-c0d00e55e5f0",
   "metadata": {},
   "outputs": [],
   "source": [
    "life.tick()"
   ]
  },
  {
   "cell_type": "code",
   "execution_count": 6,
   "id": "cda72759-8451-48bd-8213-b36e40c659c2",
   "metadata": {},
   "outputs": [
    {
     "data": {
      "text/plain": [
       "[bitarray('0000000'),\n",
       " bitarray('0000000'),\n",
       " bitarray('0000000'),\n",
       " bitarray('0010100'),\n",
       " bitarray('0001100'),\n",
       " bitarray('0001000'),\n",
       " bitarray('0000000')]"
      ]
     },
     "execution_count": 6,
     "metadata": {},
     "output_type": "execute_result"
    }
   ],
   "source": [
    "life.grid"
   ]
  },
  {
   "cell_type": "code",
   "execution_count": 7,
   "id": "d3730042-5953-4345-b3ac-e9de306ba621",
   "metadata": {},
   "outputs": [],
   "source": [
    "life.tick(num_generations=4)"
   ]
  },
  {
   "cell_type": "code",
   "execution_count": 8,
   "id": "e3ed69f9-76a6-423d-a480-822b38c77cc9",
   "metadata": {},
   "outputs": [
    {
     "data": {
      "text/plain": [
       "[bitarray('0000000'),\n",
       " bitarray('0000000'),\n",
       " bitarray('0000000'),\n",
       " bitarray('0000000'),\n",
       " bitarray('0001010'),\n",
       " bitarray('0000110'),\n",
       " bitarray('0000000')]"
      ]
     },
     "execution_count": 8,
     "metadata": {},
     "output_type": "execute_result"
    }
   ],
   "source": [
    "life.grid"
   ]
  }
 ],
 "metadata": {
  "kernelspec": {
   "display_name": "Python 3 (ipykernel)",
   "language": "python",
   "name": "python3"
  },
  "language_info": {
   "codemirror_mode": {
    "name": "ipython",
    "version": 3
   },
   "file_extension": ".py",
   "mimetype": "text/x-python",
   "name": "python",
   "nbconvert_exporter": "python",
   "pygments_lexer": "ipython3",
   "version": "3.12.3"
  }
 },
 "nbformat": 4,
 "nbformat_minor": 5
}
